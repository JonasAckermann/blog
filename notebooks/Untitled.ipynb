{
 "cells": [
  {
   "cell_type": "code",
   "execution_count": 1,
   "metadata": {},
   "outputs": [
    {
     "data": {
      "text/plain": [
       "\u001b[32mimport \u001b[39m\u001b[36mcoursier.MavenRepository\n",
       "\n",
       "\u001b[39m"
      ]
     },
     "execution_count": 1,
     "metadata": {},
     "output_type": "execute_result"
    }
   ],
   "source": [
    "import coursier.MavenRepository\n",
    "\n",
    "interp.repositories() ++= Seq(MavenRepository(\n",
    "  \"http://dl.bintray.com/cibotech/public\"\n",
    "))"
   ]
  },
  {
   "cell_type": "code",
   "execution_count": 2,
   "metadata": {},
   "outputs": [
    {
     "data": {
      "text/plain": [
       "\u001b[32mimport \u001b[39m\u001b[36m$ivy.$                               \n",
       "\u001b[39m\n",
       "\u001b[32mimport \u001b[39m\u001b[36m$ivy.$                               \n",
       "\u001b[39m\n",
       "\u001b[32mimport \u001b[39m\u001b[36mcom.stripe.rainier.core._\n",
       "\u001b[39m\n",
       "\u001b[32mimport \u001b[39m\u001b[36mcom.stripe.rainier.sampler._\u001b[39m"
      ]
     },
     "execution_count": 2,
     "metadata": {},
     "output_type": "execute_result"
    }
   ],
   "source": [
    "import $ivy.`com.stripe::rainier-core:0.2.2`\n",
    "import $ivy.`com.stripe::rainier-plot:0.2.2`\n",
    "import com.stripe.rainier.core._\n",
    "import com.stripe.rainier.sampler._"
   ]
  },
  {
   "cell_type": "code",
   "execution_count": null,
   "metadata": {},
   "outputs": [],
   "source": [
    "def banditStep(\n",
    "    epsilon: Double,\n",
    "    actions: List[Int],\n",
    "    reward: Int => Double, steps: Int) = {\n",
    "\n",
    "def bandit(epsilon: Double, actions: List[Int], reward: Int => Double, steps: Int) = {\n",
    "  q = rep(0, times = actions)\n",
    "  N = rep(0, times = actions)\n",
    "  R = numeric(steps)\n",
    "  \n",
    "  for (i in seq_len(steps)) {\n",
    "    u <- runif(1)\n",
    "    next_action <- if (u < epsilon) {\n",
    "      sample.int(n = actions, size = 1)\n",
    "    } else {\n",
    "      which.max(q)\n",
    "    }\n",
    "    R[i] <- reward(next_action)\n",
    "    N[next_action] <- N[next_action] + 1\n",
    "    q[next_action] <- q[next_action] + (R[i] - q[next_action]) / N[next_action] \n",
    "  }\n",
    "  \n",
    "  list(q, N, R)\n",
    "}"
   ]
  }
 ],
 "metadata": {
  "kernelspec": {
   "display_name": "Scala",
   "language": "scala",
   "name": "scala"
  },
  "language_info": {
   "codemirror_mode": "text/x-scala",
   "file_extension": ".scala",
   "mimetype": "text/x-scala",
   "name": "scala",
   "nbconvert_exporter": "script",
   "version": "2.12.8"
  }
 },
 "nbformat": 4,
 "nbformat_minor": 2
}
