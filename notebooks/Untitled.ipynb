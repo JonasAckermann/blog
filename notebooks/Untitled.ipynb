{
 "cells": [
  {
   "cell_type": "code",
   "execution_count": 1,
   "metadata": {},
   "outputs": [
    {
     "data": {
      "text/plain": [
       "\u001b[32mimport \u001b[39m\u001b[36mcoursier.MavenRepository\n",
       "\n",
       "\u001b[39m"
      ]
     },
     "execution_count": 1,
     "metadata": {},
     "output_type": "execute_result"
    }
   ],
   "source": [
    "import coursier.MavenRepository\n",
    "\n",
    "interp.repositories() ++= Seq(MavenRepository(\n",
    "  \"http://dl.bintray.com/cibotech/public\"\n",
    "))"
   ]
  },
  {
   "cell_type": "code",
   "execution_count": 2,
   "metadata": {},
   "outputs": [
    {
     "data": {
      "text/plain": [
       "\u001b[32mimport \u001b[39m\u001b[36m$ivy.$                               \n",
       "\u001b[39m\n",
       "\u001b[32mimport \u001b[39m\u001b[36m$ivy.$                               \n",
       "\u001b[39m\n",
       "\u001b[32mimport \u001b[39m\u001b[36m$ivy.$                            \u001b[39m"
      ]
     },
     "execution_count": 2,
     "metadata": {},
     "output_type": "execute_result"
    }
   ],
   "source": [
    "import $ivy.`com.stripe::rainier-core:0.2.2`\n",
    "import $ivy.`com.stripe::rainier-plot:0.2.2`\n",
    "import $ivy.`org.scalanlp::breeze:0.13.2`"
   ]
  },
  {
   "cell_type": "code",
   "execution_count": 4,
   "metadata": {},
   "outputs": [
    {
     "data": {
      "text/plain": [
       "\u001b[32mimport \u001b[39m\u001b[36mbreeze.stats.distributions._\n",
       "\u001b[39m\n",
       "\u001b[32mimport \u001b[39m\u001b[36mbreeze.linalg._\u001b[39m"
      ]
     },
     "execution_count": 4,
     "metadata": {},
     "output_type": "execute_result"
    }
   ],
   "source": [
    "import breeze.stats.distributions._\n",
    "import breeze.linalg._"
   ]
  },
  {
   "cell_type": "code",
   "execution_count": 5,
   "metadata": {},
   "outputs": [
    {
     "data": {
      "text/plain": [
       "defined \u001b[32mclass\u001b[39m \u001b[36mBanditState\u001b[39m\n",
       "defined \u001b[32mfunction\u001b[39m \u001b[36mbanditStep\u001b[39m"
      ]
     },
     "execution_count": 5,
     "metadata": {},
     "output_type": "execute_result"
    }
   ],
   "source": [
    "case class BanditState(\n",
    "    reward: Double,\n",
    "    longTermReward: List[Double],\n",
    "    actions: Map[Int, Int]\n",
    ")\n",
    "\n",
    "def banditStep(\n",
    "    epsilon: Double,\n",
    "    reward: Int => Double)(s: BanditState): Rand[BanditState] = {\n",
    "    for {\n",
    "        u <- Uniform(0, 1)\n",
    "        nextAction <- if (u < epsilon) {\n",
    "          Multinomial(DenseVector.ones[Double](s.actions.length))\n",
    "        } else {\n",
    "          Rand.always(s.longTermReward.zipWithIndex.maxBy(_._1)._2)\n",
    "        }\n",
    "        newReward = reward(nextAction)\n",
    "        prevCount = s.actions.get(nextAction).get\n",
    "        newLongTermReward = s.longTermReward(nextAction) + (newReward - s.longTermReward(nextAction)) / prevCount\n",
    "    } yield BanditState(newReward, \n",
    "                s.longTermReward.updated(nextAction, newLongTermReward),\n",
    "                s.actions.updated(nextAction, prevCount + 1))\n",
    "}"
   ]
  },
  {
   "cell_type": "code",
   "execution_count": null,
   "metadata": {},
   "outputs": [],
   "source": [
    "def buildActions(actions: Int): Map[Int, Int] = {\n",
    "    (1 to actions).map(a => a -> 0).toMap\n",
    "}\n",
    "\n",
    "def bandit(\n",
    "    epsilon: Double, \n",
    "    actions: Int, \n",
    "    reward: Int => Double) = {\n",
    "    \n",
    "    val initState = BanditState(0.0, List.fill(10)(0.0), buildActions(actions))\n",
    "    MarkovChain(initState)(banditStep(epsilon, reward))\n",
    "}"
   ]
  },
  {
   "cell_type": "code",
   "execution_count": null,
   "metadata": {},
   "outputs": [],
   "source": [
    "qs <- rnorm(10)\n",
    "// The reward is selected from a N(q(A_t), 1)\n",
    "def r(qa, action): Rand[Double] {\n",
    "    Gaussian(mean = qa[action], sd = 1)\n",
    "}\n",
    "\n",
    "bandit(0.1, 10, r)"
   ]
  }
 ],
 "metadata": {
  "kernelspec": {
   "display_name": "Scala",
   "language": "scala",
   "name": "scala"
  },
  "language_info": {
   "codemirror_mode": "text/x-scala",
   "file_extension": ".scala",
   "mimetype": "text/x-scala",
   "name": "scala",
   "nbconvert_exporter": "script",
   "version": "2.12.8"
  }
 },
 "nbformat": 4,
 "nbformat_minor": 2
}
