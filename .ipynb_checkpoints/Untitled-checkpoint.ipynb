{
 "cells": [
  {
   "cell_type": "code",
   "execution_count": null,
   "metadata": {},
   "outputs": [],
   "source": []
  },
  {
   "cell_type": "code",
   "execution_count": 6,
   "metadata": {},
   "outputs": [
    {
     "name": "stderr",
     "output_type": "stream",
     "text": [
      "Downloading https://repo1.maven.org/maven2/com/cibo/evilplot_2.12/0.6.0/evilplot_2.12-0.6.0.pom.sha1\n",
      "Downloading https://repo1.maven.org/maven2/com/cibo/evilplot_2.12/0.6.0/evilplot_2.12-0.6.0.pom\n",
      "Downloaded https://repo1.maven.org/maven2/com/cibo/evilplot_2.12/0.6.0/evilplot_2.12-0.6.0.pom\n",
      "Downloaded https://repo1.maven.org/maven2/com/cibo/evilplot_2.12/0.6.0/evilplot_2.12-0.6.0.pom.sha1\n",
      "Failed to resolve ivy dependencies:Error downloading com.cibo:evilplot_2.12:0.6.0\n",
      "  not found: /Users/jonnylaw/.ivy2/local/com.cibo/evilplot_2.12/0.6.0/ivys/ivy.xml\n",
      "  not found: https://repo1.maven.org/maven2/com/cibo/evilplot_2.12/0.6.0/evilplot_2.12-0.6.0.pom"
     ]
    },
    {
     "ename": "",
     "evalue": "",
     "output_type": "error",
     "traceback": [
      "Failed to resolve ivy dependencies:Error downloading com.cibo:evilplot_2.12:0.6.0\n  not found: /Users/jonnylaw/.ivy2/local/com.cibo/evilplot_2.12/0.6.0/ivys/ivy.xml\n  not found: https://repo1.maven.org/maven2/com/cibo/evilplot_2.12/0.6.0/evilplot_2.12-0.6.0.pom"
     ]
    }
   ],
   "source": [
    "import $ivy.`com.stripe::rainier-core:0.2.2`\n",
    "import com.stripe.rainier.core._\n",
    "import com.stripe.rainier.sampler._\n",
    "\n",
    "interp.repositories() ++= Seq(MavenRepository(\n",
    "  \"http://dl.bintray.com/cibotech/public\"\n",
    "))\n",
    "import $ivy.`com.cibo::evilplot:0.6.0`, com.cibo.evilplot.plot._, com.cibo.evilplot.numeric.Point, com.cibo.evilplot.plot.aesthetics.DefaultTheme._\n",
    "import $ivy.`com.stripe::rainier-plot:0.2.2`"
   ]
  },
  {
   "cell_type": "code",
   "execution_count": 3,
   "metadata": {},
   "outputs": [
    {
     "data": {
      "text/plain": [
       "defined \u001b[32mfunction\u001b[39m \u001b[36mdirichlet\u001b[39m"
      ]
     },
     "execution_count": 3,
     "metadata": {},
     "output_type": "execute_result"
    }
   ],
   "source": [
    "def dirichlet(alpha: Double*) = {\n",
    "    alpha map (Gamma(_, 1))\n",
    "}"
   ]
  },
  {
   "cell_type": "code",
   "execution_count": 6,
   "metadata": {},
   "outputs": [
    {
     "data": {
      "text/plain": [
       "\u001b[36ms\u001b[39m: \u001b[32mRNG\u001b[39m = \u001b[33mScalaRNG\u001b[39m(\u001b[32m1555335042837L\u001b[39m)\n",
       "\u001b[36mres5_1\u001b[39m: \u001b[32mRandomVariable\u001b[39m[\u001b[32mSeq\u001b[39m[\u001b[32mcom\u001b[39m.\u001b[32mstripe\u001b[39m.\u001b[32mrainier\u001b[39m.\u001b[32mcompute\u001b[39m.\u001b[32mReal\u001b[39m]] = com.stripe.rainier.core.RandomVariable@74b951c2"
      ]
     },
     "execution_count": 6,
     "metadata": {},
     "output_type": "execute_result"
    }
   ],
   "source": [
    "implicit val s = RNG.default\n",
    "RandomVariable.traverse(dirichlet(1.0, 2.0).map(_.param))"
   ]
  },
  {
   "cell_type": "code",
   "execution_count": 6,
   "metadata": {},
   "outputs": [
    {
     "name": "stderr",
     "output_type": "stream",
     "text": [
      "Downloading https://repo1.maven.org/maven2/com/stripe/rainier-plot_2.12/0.2.2/rainier-plot_2.12-0.2.2.pom\n",
      "Downloading https://repo1.maven.org/maven2/com/stripe/rainier-plot_2.12/0.2.2/rainier-plot_2.12-0.2.2.pom.sha1\n",
      "Downloaded https://repo1.maven.org/maven2/com/stripe/rainier-plot_2.12/0.2.2/rainier-plot_2.12-0.2.2.pom.sha1\n",
      "Downloaded https://repo1.maven.org/maven2/com/stripe/rainier-plot_2.12/0.2.2/rainier-plot_2.12-0.2.2.pom\n",
      "Downloading https://repo1.maven.org/maven2/sh/almond/interpreter-api_2.12/0.3.0/interpreter-api_2.12-0.3.0.pom\n",
      "Downloading https://repo1.maven.org/maven2/com/cibo/evilplot_2.12/0.6.0/evilplot_2.12-0.6.0.pom.sha1\n",
      "Downloading https://repo1.maven.org/maven2/com/cibo/evilplot_2.12/0.6.0/evilplot_2.12-0.6.0.pom\n",
      "Downloading https://repo1.maven.org/maven2/sh/almond/interpreter-api_2.12/0.3.0/interpreter-api_2.12-0.3.0.pom.sha1\n",
      "Downloaded https://repo1.maven.org/maven2/sh/almond/interpreter-api_2.12/0.3.0/interpreter-api_2.12-0.3.0.pom\n",
      "Downloaded https://repo1.maven.org/maven2/sh/almond/interpreter-api_2.12/0.3.0/interpreter-api_2.12-0.3.0.pom.sha1\n",
      "Downloaded https://repo1.maven.org/maven2/com/cibo/evilplot_2.12/0.6.0/evilplot_2.12-0.6.0.pom.sha1\n",
      "Downloaded https://repo1.maven.org/maven2/com/cibo/evilplot_2.12/0.6.0/evilplot_2.12-0.6.0.pom\n",
      "Failed to resolve ivy dependencies:Error downloading com.cibo:evilplot_2.12:0.6.0\n",
      "  not found: /Users/jonnylaw/.ivy2/local/com.cibo/evilplot_2.12/0.6.0/ivys/ivy.xml\n",
      "  not found: https://repo1.maven.org/maven2/com/cibo/evilplot_2.12/0.6.0/evilplot_2.12-0.6.0.pom"
     ]
    },
    {
     "ename": "",
     "evalue": "",
     "output_type": "error",
     "traceback": [
      "Failed to resolve ivy dependencies:Error downloading com.cibo:evilplot_2.12:0.6.0\n  not found: /Users/jonnylaw/.ivy2/local/com.cibo/evilplot_2.12/0.6.0/ivys/ivy.xml\n  not found: https://repo1.maven.org/maven2/com/cibo/evilplot_2.12/0.6.0/evilplot_2.12-0.6.0.pom"
     ]
    }
   ],
   "source": []
  }
 ],
 "metadata": {
  "kernelspec": {
   "display_name": "Scala",
   "language": "scala",
   "name": "scala"
  },
  "language_info": {
   "codemirror_mode": "text/x-scala",
   "file_extension": ".scala",
   "mimetype": "text/x-scala",
   "name": "scala",
   "nbconvert_exporter": "script",
   "version": "2.12.8"
  }
 },
 "nbformat": 4,
 "nbformat_minor": 2
}
